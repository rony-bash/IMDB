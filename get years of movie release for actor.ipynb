{
 "cells": [
  {
   "cell_type": "code",
   "execution_count": 15,
   "metadata": {},
   "outputs": [
    {
     "name": "stdout",
     "output_type": "stream",
     "text": [
      "Which celeb you want to look up?: rima lagoo\n"
     ]
    },
    {
     "name": "stderr",
     "output_type": "stream",
     "text": [
      "C:\\Users\\rohanu\\AppData\\Local\\Continuum\\Continuum\\anaconda3\\lib\\site-packages\\urllib3\\connectionpool.py:858: InsecureRequestWarning: Unverified HTTPS request is being made. Adding certificate verification is strongly advised. See: https://urllib3.readthedocs.io/en/latest/advanced-usage.html#ssl-warnings\n",
      "  InsecureRequestWarning)\n"
     ]
    },
    {
     "name": "stdout",
     "output_type": "stream",
     "text": [
      "/name/nm0481363/?ref_=fn_al_nm_1\n"
     ]
    },
    {
     "name": "stderr",
     "output_type": "stream",
     "text": [
      "C:\\Users\\rohanu\\AppData\\Local\\Continuum\\Continuum\\anaconda3\\lib\\site-packages\\urllib3\\connectionpool.py:858: InsecureRequestWarning: Unverified HTTPS request is being made. Adding certificate verification is strongly advised. See: https://urllib3.readthedocs.io/en/latest/advanced-usage.html#ssl-warnings\n",
      "  InsecureRequestWarning)\n"
     ]
    },
    {
     "name": "stdout",
     "output_type": "stream",
     "text": [
      "Counter({'1994': 17, '1992': 15, '1999': 9, '1997': 9, '1991': 9, '2006': 8, '1998': 8, '1995': 8, '1993': 8, '2000': 7, '1996': 7, '2002': 6, '2013': 5, '2009': 5, '2003': 5, '2001': 5, '2015': 4, '2008': 4, '2005': 4, '2004': 4, '1990': 4, '1988': 4, '2012': 3, '2010': 3, '2007': 3, '2016': 2, '2011': 2, '1985': 2, '2017': 1, '2014': 1, '1989': 1, '1984': 1, '1983': 1, '1981': 1, '1980': 1, '1979': 1})\n"
     ]
    },
    {
     "name": "stderr",
     "output_type": "stream",
     "text": [
      "C:\\Users\\rohanu\\AppData\\Local\\Continuum\\Continuum\\anaconda3\\lib\\site-packages\\matplotlib\\figure.py:2267: UserWarning: This figure includes Axes that are not compatible with tight_layout, so results might be incorrect.\n",
      "  warnings.warn(\"This figure includes Axes that are not compatible \"\n"
     ]
    },
    {
     "data": {
      "image/png": "[encoded data removed]",
      "text/plain": [
       "<Figure size 432x288 with 1 Axes>"
      ]
     },
     "metadata": {},
     "output_type": "display_data"
    }
   ],
   "source": [
    "import requests\n",
    "from bs4 import BeautifulSoup\n",
    "import re\n",
    "from collections import Counter\n",
    "import matplotlib.pylab as plt\n",
    "%matplotlib inline\n",
    "plt.style.use('ggplot')\n",
    "\n",
    "\n",
    "name_to_search = input(\"Which celeb you want to look up?: \")\n",
    "entire_url_to_query_to_get_actor_code = 'http://www.imdb.com/find?ref_=nv_sr_fn&q=' + name_to_search\n",
    "\n",
    "\n",
    "\n",
    "r = requests.get(entire_url_to_query_to_get_actor_code, verify=False,)\n",
    "\n",
    "soup = BeautifulSoup(r.content , \"lxml\", )\n",
    "\n",
    "\n",
    "\n",
    "actor = soup.find('td' , class_='result_text')\n",
    "\n",
    "\n",
    "encoded_name_link = actor.find('a')\n",
    "uri_portion = ((encoded_name_link['href']))\n",
    "print(uri_portion)\n",
    "\n",
    "entire_url_to_query_to_get_actor_page = 'http://www.imdb.com' + uri_portion\n",
    "actor_page_response = requests.get(entire_url_to_query_to_get_actor_page, verify=False,  )\n",
    "actor_soup = BeautifulSoup(actor_page_response.content , 'lxml')\n",
    "\n",
    "\n",
    "films_tag = actor_soup.find( 'div', class_='filmo-category-section', )\n",
    "\n",
    "#print(films_tag)\n",
    "\n",
    "ruleset_of_years = (films_tag.findAll('span' , class_='year_column'))\n",
    "\n",
    "#print(ruleset_of_years)\n",
    "\n",
    "list_of_years = []\n",
    "\n",
    "for year in range(len(ruleset_of_years)):\n",
    "    list_of_years.append(ruleset_of_years[year].text)\n",
    "    #print(ruleset_of_years[year].text)\n",
    "\n",
    "    \n",
    "    \n",
    "\n",
    "#print (list_of_years)\n",
    "#list_of_movies_actor_a = []\n",
    "#\n",
    "#for each_tag in ruleset_of_b:\n",
    "#    #print((each_tag.text))\n",
    "#    \n",
    "#    list_of_movies_actor_a.append(each_tag.text)\n",
    "#    \n",
    "#    \n",
    "#print (list_of_movies_actor_a)\n",
    "    \n",
    "#    list_of_years_characters_removed.append(list_of_years[each_string].replace('\\\\n',''))\n",
    "\n",
    "\n",
    "#for each_string in range(len(list_of_years)):\n",
    "#    list_of_years[each_string].replace('2019','1111')\n",
    "\n",
    "list_of_years_just_digits = []\n",
    "    \n",
    "#print(type(list_of_years))  \n",
    "\n",
    "\n",
    "for each_string in list_of_years:\n",
    "    list_of_years_just_digits.append(re.sub('[^0-9]', '', each_string))\n",
    "    #print ((each_string))\n",
    "    \n",
    "#print (list_of_years_just_digits)    \n",
    "count = Counter(list_of_years_just_digits)   \n",
    "print ((count))\n",
    "\n",
    "\n",
    "\n",
    "lists = sorted(count.items())\n",
    "x, y = zip(*lists)\n",
    "plt.xticks(rotation=90,)\n",
    "\n",
    "#fig_size = plt.rcParams[\"figure.figsize\"]\n",
    "# # Prints: [8.0, 6.0]\n",
    "#print (\"Current size:\", fig_size)\n",
    "#fig_size[0] = 10\n",
    "#fig_size[1] = 8\n",
    "#plt.rcParams[\"figure.figsize\"] = fig_size\n",
    "plt.rcParams.update({'figure.autolayout': True})\n",
    "#plt.margins(x=-0.1)\n",
    "\n",
    "plt.bar(x, y)\n",
    "plt.show()"
   ]
  },
  {
   "cell_type": "code",
   "execution_count": null,
   "metadata": {},
   "outputs": [],
   "source": []
  }
 ],
 "metadata": {
  "kernelspec": {
   "display_name": "Python 3",
   "language": "python",
   "name": "python3"
  },
  "language_info": {
   "codemirror_mode": {
    "name": "ipython",
    "version": 3
   },
   "file_extension": ".py",
   "mimetype": "text/x-python",
   "name": "python",
   "nbconvert_exporter": "python",
   "pygments_lexer": "ipython3",
   "version": "3.6.5"
  }
 },
 "nbformat": 4,
 "nbformat_minor": 2
}
