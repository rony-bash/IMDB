{
 "cells": [
  {
   "cell_type": "code",
   "execution_count": null,
   "metadata": {},
   "outputs": [],
   "source": [
    "import requests\n",
    "from bs4 import BeautifulSoup\n",
    "\n",
    "def get_actor_movie_list():\n",
    "\n",
    "    name_to_search = input(\"Which celeb you want to look up?: \")\n",
    "    entire_url_to_query_to_get_actor_code = 'http://www.imdb.com/find?ref_=nv_sr_fn&q=' + name_to_search\n",
    "\n",
    "\n",
    "\n",
    "    r = requests.get(entire_url_to_query_to_get_actor_code, verify=False,)\n",
    "    \n",
    "    soup = BeautifulSoup(r.content , \"lxml\", )\n",
    "    \n",
    "    \n",
    "    actor = soup.find('td' , class_='result_text')\n",
    "    \n",
    "    \n",
    "    encoded_name_link = actor.find('a')\n",
    "    uri_portion = ((encoded_name_link['href']))\n",
    "    print(uri_portion)\n",
    "    \n",
    "    entire_url_to_query_to_get_actor_page = 'http://www.imdb.com' + uri_portion\n",
    "    actor_page_response = requests.get(entire_url_to_query_to_get_actor_page, verify=False,  )\n",
    "    actor_soup = BeautifulSoup(actor_page_response.content , 'lxml')\n",
    "    \n",
    "    films_tag = actor_soup.find( 'div', class_='filmo-category-section', )\n",
    "    \n",
    "    ruleset_of_b = (films_tag.findAll('b'))\n",
    "    \n",
    "    list_of_movies_actor_a = []\n",
    "    \n",
    "    for each_tag in ruleset_of_b:\n",
    "        #print((each_tag.text))\n",
    "        list_of_movies_actor_a.append(each_tag.text)\n",
    "        \n",
    "        \n",
    "    #print (list_of_movies_actor_a)\n",
    "        \n",
    "    return (list_of_movies_actor_a)\n",
    "\n",
    "##################################################test\n",
    "\n",
    "\n",
    "actor_A_list = get_actor_movie_list()\n",
    "\n",
    "actor_B_list = get_actor_movie_list()\n",
    "\n",
    "\n",
    "commonalities = set(actor_A_list) - (set(actor_A_list) - set(actor_B_list))\n",
    "print(commonalities)"
   ]
  }
 ],
 "metadata": {
  "kernelspec": {
   "display_name": "Python 3",
   "language": "python",
   "name": "python3"
  },
  "language_info": {
   "codemirror_mode": {
    "name": "ipython",
    "version": 3
   },
   "file_extension": ".py",
   "mimetype": "text/x-python",
   "name": "python",
   "nbconvert_exporter": "python",
   "pygments_lexer": "ipython3",
   "version": "3.6.5"
  }
 },
 "nbformat": 4,
 "nbformat_minor": 2
}
