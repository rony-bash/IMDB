{
 "cells": [
  {
   "cell_type": "code",
   "execution_count": 1,
   "metadata": {},
   "outputs": [
    {
     "name": "stdout",
     "output_type": "stream",
     "text": [
      "Which celeb you want to look up?: sunny deol\n"
     ]
    },
    {
     "name": "stderr",
     "output_type": "stream",
     "text": [
      "C:\\Users\\rohanu\\AppData\\Local\\Continuum\\Continuum\\anaconda3\\lib\\site-packages\\urllib3\\connectionpool.py:858: InsecureRequestWarning: Unverified HTTPS request is being made. Adding certificate verification is strongly advised. See: https://urllib3.readthedocs.io/en/latest/advanced-usage.html#ssl-warnings\n",
      "  InsecureRequestWarning)\n"
     ]
    },
    {
     "name": "stdout",
     "output_type": "stream",
     "text": [
      "/name/nm0219971/?ref_=fn_al_nm_1\n"
     ]
    },
    {
     "name": "stderr",
     "output_type": "stream",
     "text": [
      "C:\\Users\\rohanu\\AppData\\Local\\Continuum\\Continuum\\anaconda3\\lib\\site-packages\\urllib3\\connectionpool.py:858: InsecureRequestWarning: Unverified HTTPS request is being made. Adding certificate verification is strongly advised. See: https://urllib3.readthedocs.io/en/latest/advanced-usage.html#ssl-warnings\n",
      "  InsecureRequestWarning)\n"
     ]
    },
    {
     "name": "stdout",
     "output_type": "stream",
     "text": [
      "['Blank', 'Bhaiaji Superhit', 'Yamla Pagla Deewana Phir Se...', 'Poster Boys', \"Hanuman Da' Damdaar\", 'Wounded Once Again', 'C.I.D.', 'Mohalla Assi', 'I Love New Year', 'Dishkiyaoon', 'Mahabharat', 'Singh Saab the Great', 'Yamla Pagla Deewana 2', 'Yamla Pagla Deewana', 'Khuda Kasam', 'Hello Darling', 'Right or Wrong', 'Fox', 'Heroes', 'Tolly Lights', 'Kaafila', 'Apne', 'Fool N Final', 'Big Brother', 'Naksha', 'Teesri Aankh: The Hidden Camera', 'Jo Bole So Nihaal', 'Lakeer - Forbidden Lines', 'Rok Sako To Rok Lo', 'Khel', 'Jaal: The Trap', 'Kaise Kahoon Ke... Pyaar Hai', 'The Hero', 'Karz: The Burden of Truth', 'Jaani Dushman: Ek Anokhi Kahani', '23rd March 1931: Shaheed', 'Maa Tujhhe Salaam', 'Kasam', 'Indian', 'Yeh Raaste Hain Pyaar Ke', 'Gadar: Ek Prem Katha', 'Farz', 'Champion', 'Dillagi', 'Arjun Pandit', 'Pyaar Koi Khel Nahin', 'Iski Topi Uske Sarr', 'Salaakhen', 'Zor: Never Underestimate the Force', 'Qahar', '...Aur Pyaar Ho Gaya', 'Border', 'Ziddi', 'Ajay', 'Lethal', 'Jeet', 'Himmat', 'Dushmani: A Violent Love Story', 'Angrakshak', 'Imtihaan', 'Insaniyat', 'Gunaah', 'Veerta', 'Fear', 'Izzat Ki Roti', 'Damini', 'Lootere', 'Kshatriya', 'Vishwatma', 'Narasimha', 'Shankara', 'Yodha', 'Vishnu-Devaa', 'Aag Ka Gola', 'Badnaam', 'Badnam', 'Wounded', 'Kroadh', 'Main Tera Dushman', 'Majboor', 'Chaalbaaz', 'Nigahen: Nagina Part II', 'Tridev', 'Joshilaay', 'Vardi', 'Inteqam', 'Yateem', 'Ram-Avtar', 'Paap Ki Duniya', 'Dacait', 'Saveray Wali Gaadi', 'Samundar', 'Sultanat', 'Zabardast', 'Arjun', 'Sohni Mahiwal', 'Manzil Manzil', 'Sunny', 'Betaab']\n"
     ]
    }
   ],
   "source": [
    "import requests\n",
    "from bs4 import BeautifulSoup\n",
    "\n",
    "name_to_search = input(\"Which celeb you want to look up?: \")\n",
    "entire_url_to_query_to_get_actor_code = 'http://www.imdb.com/find?ref_=nv_sr_fn&q=' + name_to_search\n",
    "\n",
    "\n",
    "\n",
    "r = requests.get(entire_url_to_query_to_get_actor_code, verify=False,)\n",
    "\n",
    "soup = BeautifulSoup(r.content , \"lxml\", )\n",
    "\n",
    "\n",
    "actor = soup.find('td' , class_='result_text')\n",
    "\n",
    "\n",
    "encoded_name_link = actor.find('a')\n",
    "uri_portion = ((encoded_name_link['href']))\n",
    "print(uri_portion)\n",
    "\n",
    "entire_url_to_query_to_get_actor_page = 'http://www.imdb.com' + uri_portion\n",
    "actor_page_response = requests.get(entire_url_to_query_to_get_actor_page, verify=False,  )\n",
    "actor_soup = BeautifulSoup(actor_page_response.content , 'lxml')\n",
    "\n",
    "\n",
    "films_tag = actor_soup.find( 'div', class_='filmo-category-section', )\n",
    "\n",
    "ruleset_of_b = (films_tag.findAll('b'))\n",
    "\n",
    "list_of_movies_actor_a = []\n",
    "\n",
    "for each_tag in ruleset_of_b:\n",
    "    #print((each_tag.text))\n",
    "    list_of_movies_actor_a.append(each_tag.text)\n",
    "    \n",
    "    \n",
    "print (list_of_movies_actor_a)\n",
    "    \n",
    "\n"
   ]
  }
 ],
 "metadata": {
  "kernelspec": {
   "display_name": "Python 3",
   "language": "python",
   "name": "python3"
  },
  "language_info": {
   "codemirror_mode": {
    "name": "ipython",
    "version": 3
   },
   "file_extension": ".py",
   "mimetype": "text/x-python",
   "name": "python",
   "nbconvert_exporter": "python",
   "pygments_lexer": "ipython3",
   "version": "3.6.5"
  }
 },
 "nbformat": 4,
 "nbformat_minor": 2
}
