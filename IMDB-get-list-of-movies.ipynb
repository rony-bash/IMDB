{
 "cells": [
  {
   "cell_type": "code",
   "execution_count": 1,
   "metadata": {},
   "outputs": [
    {
     "name": "stdout",
     "output_type": "stream",
     "text": [
      "Which celeb you want to look up?: al pacino\n"
     ]
    },
    {
     "name": "stderr",
     "output_type": "stream",
     "text": [
      "C:\\Users\\rohanu\\AppData\\Local\\Continuum\\Continuum\\anaconda3\\lib\\site-packages\\urllib3\\connectionpool.py:858: InsecureRequestWarning: Unverified HTTPS request is being made. Adding certificate verification is strongly advised. See: https://urllib3.readthedocs.io/en/latest/advanced-usage.html#ssl-warnings\n",
      "  InsecureRequestWarning)\n"
     ]
    },
    {
     "name": "stdout",
     "output_type": "stream",
     "text": [
      "/name/nm0000199/?ref_=fn_al_nm_1\n"
     ]
    },
    {
     "name": "stderr",
     "output_type": "stream",
     "text": [
      "C:\\Users\\rohanu\\AppData\\Local\\Continuum\\Continuum\\anaconda3\\lib\\site-packages\\urllib3\\connectionpool.py:858: InsecureRequestWarning: Unverified HTTPS request is being made. Adding certificate verification is strongly advised. See: https://urllib3.readthedocs.io/en/latest/advanced-usage.html#ssl-warnings\n",
      "  InsecureRequestWarning)\n"
     ]
    },
    {
     "name": "stdout",
     "output_type": "stream",
     "text": [
      "['Once Upon a Time in Hollywood', 'The Irishman', 'Paterno', 'Hangman', 'The Pirates of Somalia', 'Misconduct', 'Danny Collins', 'Manglehorn', 'The Humbling', 'Salomé', 'Phil Spector', 'No somos animales', 'Stand Up Guys', 'Jack and Jill', 'The Son of No One', \"You Don't Know Jack\", 'Righteous Kill', \"Ocean's Thirteen\", '88 Minutes', 'Two for the Money', 'The Merchant of Venice', 'Angels in America', 'Gigli', 'The Recruit', 'People I Know', 'S1m0ne', 'Insomnia', 'Chinese Coffee', 'Any Given Sunday', 'The Insider', \"The Devil's Advocate\", 'Donnie Brasco', 'City Hall', 'Heat', 'Two Bits', \"Carlito's Way\", 'Scent of a Woman', 'Glengarry Glen Ross', 'Frankie and Johnny', 'The Godfather: Part III', 'Dick Tracy', 'The Local Stigmatic', 'Sea of Love', 'Revolution', 'Scarface', 'Author! Author!', 'Cruising', '...and justice for all.', 'The Godfather: A Novel for Television', 'Bobby Deerfield', 'Dog Day Afternoon', 'The Godfather: Part II', 'Serpico', 'Scarecrow', 'The Godfather', 'The Panic in Needle Park', 'Me, Natalie', 'N.Y.P.D.']\n"
     ]
    }
   ],
   "source": [
    "import requests\n",
    "from bs4 import BeautifulSoup\n",
    "\n",
    "name_to_search = input(\"Which celeb you want to look up?: \")\n",
    "entire_url_to_query_to_get_actor_code = 'http://www.imdb.com/find?ref_=nv_sr_fn&q=' + name_to_search\n",
    "\n",
    "\n",
    "\n",
    "r = requests.get(entire_url_to_query_to_get_actor_code, verify=False,)\n",
    "\n",
    "soup = BeautifulSoup(r.content , \"lxml\", )\n",
    "\n",
    "\n",
    "actor = soup.find('td' , class_='result_text')\n",
    "\n",
    "\n",
    "encoded_name_link = actor.find('a')\n",
    "uri_portion = ((encoded_name_link['href']))\n",
    "print(uri_portion)\n",
    "\n",
    "entire_url_to_query_to_get_actor_page = 'http://www.imdb.com' + uri_portion\n",
    "actor_page_response = requests.get(entire_url_to_query_to_get_actor_page, verify=False,  )\n",
    "actor_soup = BeautifulSoup(actor_page_response.content , 'lxml')\n",
    "\n",
    "\n",
    "films_tag = actor_soup.find( 'div', class_='filmo-category-section', )\n",
    "\n",
    "ruleset_of_b = (films_tag.findAll('b'))\n",
    "\n",
    "list_of_movies_actor_a = []\n",
    "\n",
    "for each_tag in ruleset_of_b:\n",
    "    #print((each_tag.text))\n",
    "    \n",
    "    list_of_movies_actor_a.append(each_tag.text)\n",
    "    \n",
    "    \n",
    "print (list_of_movies_actor_a)\n",
    "    \n",
    "\n"
   ]
  }
 ],
 "metadata": {
  "kernelspec": {
   "display_name": "Python 3",
   "language": "python",
   "name": "python3"
  },
  "language_info": {
   "codemirror_mode": {
    "name": "ipython",
    "version": 3
   },
   "file_extension": ".py",
   "mimetype": "text/x-python",
   "name": "python",
   "nbconvert_exporter": "python",
   "pygments_lexer": "ipython3",
   "version": "3.6.5"
  }
 },
 "nbformat": 4,
 "nbformat_minor": 2
}
