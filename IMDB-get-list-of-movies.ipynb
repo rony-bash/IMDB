{
 "cells": [
  {
   "cell_type": "code",
   "execution_count": 2,
   "metadata": {},
   "outputs": [
    {
     "name": "stdout",
     "output_type": "stream",
     "text": [
      "Which celeb you want to look up?: bobby deol\n"
     ]
    },
    {
     "name": "stderr",
     "output_type": "stream",
     "text": [
      "C:\\Users\\rohanu\\AppData\\Local\\Continuum\\Continuum\\anaconda3\\lib\\site-packages\\urllib3\\connectionpool.py:858: InsecureRequestWarning: Unverified HTTPS request is being made. Adding certificate verification is strongly advised. See: https://urllib3.readthedocs.io/en/latest/advanced-usage.html#ssl-warnings\n",
      "  InsecureRequestWarning)\n"
     ]
    },
    {
     "name": "stdout",
     "output_type": "stream",
     "text": [
      "/name/nm0219967/?ref_=fn_al_nm_1\n"
     ]
    },
    {
     "name": "stderr",
     "output_type": "stream",
     "text": [
      "C:\\Users\\rohanu\\AppData\\Local\\Continuum\\Continuum\\anaconda3\\lib\\site-packages\\urllib3\\connectionpool.py:858: InsecureRequestWarning: Unverified HTTPS request is being made. Adding certificate verification is strongly advised. See: https://urllib3.readthedocs.io/en/latest/advanced-usage.html#ssl-warnings\n",
      "  InsecureRequestWarning)\n"
     ]
    },
    {
     "name": "stdout",
     "output_type": "stream",
     "text": [
      "['Housefull 4', 'Yamla Pagla Deewana Phir Se...', 'Race 3', 'Poster Boys', 'Singh Saab the Great', 'Comedy Circus Ke Ajoobe', 'Yamla Pagla Deewana 2', 'Players', 'Thank You', 'Yamla Pagla Deewana', 'Help', 'Vaada Raha... I Promise', 'Ek: The Power of One', 'Dostana', 'Heroes', 'Chamku', 'Nanhe Jaisalmer: A Dream Come True', 'Naqaab', 'Apne', 'Jhoom Barabar Jhoom', 'Shakalaka Boom Boom', 'Different', 'Humko Tumse Pyaar Hai', 'Dosti: Friends Forever', 'Rain: A Sublime Love Story', 'Tango Charlie', 'Jurm', 'Ab Tumhare Hawale Watan Saathiyo', 'Bardaasht', 'Destiny', 'Chor Machaaye Shor', 'Humraaz', '23rd March 1931: Shaheed', 'Kranti', 'Ajnabee', 'Aashiq', 'Bichhoo', 'Hum To Mohabbat Karega', 'Badal', 'Dillagi', 'Soldier', 'Kareeb', '...Aur Pyaar Ho Gaya', 'Gupt: The Hidden Truth', 'Barsaat', 'Dharam Veer']\n"
     ]
    }
   ],
   "source": [
    "import requests\n",
    "from bs4 import BeautifulSoup\n",
    "\n",
    "name_to_search = input(\"Which celeb you want to look up?: \")\n",
    "entire_url_to_query_to_get_actor_code = 'http://www.imdb.com/find?ref_=nv_sr_fn&q=' + name_to_search\n",
    "\n",
    "\n",
    "\n",
    "r = requests.get(entire_url_to_query_to_get_actor_code, verify=False,)\n",
    "\n",
    "soup = BeautifulSoup(r.content , \"lxml\", )\n",
    "\n",
    "\n",
    "actor = soup.find('td' , class_='result_text')\n",
    "\n",
    "\n",
    "encoded_name_link = actor.find('a')\n",
    "uri_portion = ((encoded_name_link['href']))\n",
    "print(uri_portion)\n",
    "\n",
    "entire_url_to_query_to_get_actor_page = 'http://www.imdb.com' + uri_portion\n",
    "actor_page_response = requests.get(entire_url_to_query_to_get_actor_page, verify=False,  )\n",
    "actor_soup = BeautifulSoup(actor_page_response.content , 'lxml')\n",
    "\n",
    "\n",
    "films_tag = actor_soup.find( 'div', class_='filmo-category-section', )\n",
    "\n",
    "ruleset_of_b = (films_tag.findAll('b'))\n",
    "\n",
    "list_of_movies_actor_a = []\n",
    "\n",
    "for each_tag in ruleset_of_b:\n",
    "    #print((each_tag.text))\n",
    "    list_of_movies_actor_a.append(each_tag.text)\n",
    "    \n",
    "    \n",
    "print (list_of_movies_actor_a)\n",
    "    \n",
    "\n"
   ]
  }
 ],
 "metadata": {
  "kernelspec": {
   "display_name": "Python 3",
   "language": "python",
   "name": "python3"
  },
  "language_info": {
   "codemirror_mode": {
    "name": "ipython",
    "version": 3
   },
   "file_extension": ".py",
   "mimetype": "text/x-python",
   "name": "python",
   "nbconvert_exporter": "python",
   "pygments_lexer": "ipython3",
   "version": "3.6.5"
  }
 },
 "nbformat": 4,
 "nbformat_minor": 2
}
